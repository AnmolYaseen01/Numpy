{
 "cells": [
  {
   "cell_type": "markdown",
   "id": "e7e62fc7-41ab-4489-8531-6fee1c6d7a0b",
   "metadata": {},
   "source": [
    "Array Creation and Manipulation:\n",
    "1.\tCreate a 1D array with integers from 1 to 10.\r\n",
    "2.\tCreate a 2D array with shape (3, 4) filled with random values.\r\n",
    "3.\tCreate a 3x3 identity matrix.\r\n",
    "4.\tGenerate a sequence of numbers from 0 to 2 with a step of 0.5.\r\n",
    "5.\tCreate a copy of an existing array and change an element in the copy without affecting the original.\r\n"
   ]
  },
  {
   "cell_type": "code",
   "execution_count": 266,
   "id": "5b013820-9196-4b52-bee6-ddc36657ef92",
   "metadata": {},
   "outputs": [
    {
     "data": {
      "text/plain": [
       "array([ 1,  2,  3,  4,  5,  6,  7,  8,  9, 10])"
      ]
     },
     "execution_count": 266,
     "metadata": {},
     "output_type": "execute_result"
    }
   ],
   "source": [
    "import numpy as np\n",
    "arr=np.array([1,2,3,4,5,6,7,8,9,10])\n",
    "arr"
   ]
  },
  {
   "cell_type": "code",
   "execution_count": 267,
   "id": "1401ab18-9dd8-4853-bff6-f88a28d4d690",
   "metadata": {},
   "outputs": [
    {
     "data": {
      "text/plain": [
       "array([[0.70818256, 0.69619308, 0.71359329, 0.46844895],\n",
       "       [0.11870248, 0.02243939, 0.39393779, 0.670498  ],\n",
       "       [0.62718631, 0.56060623, 0.55425566, 0.69207106]])"
      ]
     },
     "execution_count": 267,
     "metadata": {},
     "output_type": "execute_result"
    }
   ],
   "source": [
    "array_2d=np.random.rand(3,4)\n",
    "array_2d"
   ]
  },
  {
   "cell_type": "code",
   "execution_count": 268,
   "id": "28a47d20-880c-467d-9576-9dbfce99a6b9",
   "metadata": {},
   "outputs": [
    {
     "data": {
      "text/plain": [
       "array([[1., 0., 0.],\n",
       "       [0., 1., 0.],\n",
       "       [0., 0., 1.]])"
      ]
     },
     "execution_count": 268,
     "metadata": {},
     "output_type": "execute_result"
    }
   ],
   "source": [
    "identity_matrix=np.eye(3)\n",
    "identity_matrix"
   ]
  },
  {
   "cell_type": "code",
   "execution_count": 269,
   "id": "708d5fa4-ea82-4feb-8f6e-2fb6dff8b874",
   "metadata": {},
   "outputs": [
    {
     "data": {
      "text/plain": [
       "array([0. , 0.5, 1. , 1.5, 2. ])"
      ]
     },
     "execution_count": 269,
     "metadata": {},
     "output_type": "execute_result"
    }
   ],
   "source": [
    "seq_arr=np.arange(0,2.1,0.5)\n",
    "seq_arr"
   ]
  },
  {
   "cell_type": "code",
   "execution_count": 270,
   "id": "0c7398f3-f329-45f6-9579-418cd731bdd6",
   "metadata": {},
   "outputs": [
    {
     "data": {
      "text/plain": [
       "array([45, 32, 56])"
      ]
     },
     "execution_count": 270,
     "metadata": {},
     "output_type": "execute_result"
    }
   ],
   "source": [
    "orig_arr=np.array([1,32,56])\n",
    "copied_arr=orig_arr.copy()\n",
    "copied_arr[0]=45\n",
    "copied_arr"
   ]
  },
  {
   "cell_type": "markdown",
   "id": "24acb5aa-543e-4de2-b20b-d09197242b47",
   "metadata": {},
   "source": [
    "Array Operations:\n",
    "1.\tPerform element-wise addition on two 1D arrays.\r\n",
    "2.\tMultiply each element in a 2D array by a scalar value.\r\n",
    "3.\tSubtract the mean of each column from a 2D array.\r\n",
    "4.\tFind the sum, minimum, and maximum values in a 1D arr\n",
    "5.\tFind the mean, median and mode values in a 1D array.a6.\r\n",
    "5.\tNormalize a 1D array by scaling its values between 0 and 1.\r\n"
   ]
  },
  {
   "cell_type": "code",
   "execution_count": 271,
   "id": "dfe8c0ed-e22f-4677-88a3-8cc46bed9748",
   "metadata": {},
   "outputs": [
    {
     "data": {
      "text/plain": [
       "array([ 2,  7, 11, 14, 16])"
      ]
     },
     "execution_count": 271,
     "metadata": {},
     "output_type": "execute_result"
    }
   ],
   "source": [
    "arr1=np.array([1,3,5,6,7])\n",
    "arr2=np.array([1,4,6,8,9]) \n",
    "addition=np.add(arr1,arr2)\n",
    "addition"
   ]
  },
  {
   "cell_type": "code",
   "execution_count": 272,
   "id": "afb8415b-8b40-4ebd-becf-8dc5bd3a6436",
   "metadata": {},
   "outputs": [
    {
     "data": {
      "text/plain": [
       "array([[ 2,  6, 16,  6],\n",
       "       [ 8, 14,  8, 18]])"
      ]
     },
     "execution_count": 272,
     "metadata": {},
     "output_type": "execute_result"
    }
   ],
   "source": [
    "arr_2d=np.array([[1,3,8,3],[4,7,4,9]])\n",
    "scalar_value=2\n",
    "arr_prod=np.multiply(arr_2d,scalar_value)\n",
    "arr_prod"
   ]
  },
  {
   "cell_type": "code",
   "execution_count": 273,
   "id": "b5c968ea-0cf2-4593-8af6-81fa29763d0c",
   "metadata": {},
   "outputs": [
    {
     "data": {
      "text/plain": [
       "array([[-1.5, -2. ,  2. , -3. ],\n",
       "       [ 1.5,  2. , -2. ,  3. ]])"
      ]
     },
     "execution_count": 273,
     "metadata": {},
     "output_type": "execute_result"
    }
   ],
   "source": [
    "arr_2d=np.array([[1,3,8,3],[4,7,4,9]])\n",
    "mean_subtracted_array = arr_2d - np.mean(arr_2d, axis=0)\n",
    "mean_subtracted_array"
   ]
  },
  {
   "cell_type": "code",
   "execution_count": 274,
   "id": "32b0022b-c846-4687-bbcc-d69a43c14872",
   "metadata": {},
   "outputs": [
    {
     "data": {
      "text/plain": [
       "8"
      ]
     },
     "execution_count": 274,
     "metadata": {},
     "output_type": "execute_result"
    }
   ],
   "source": [
    "arr=np.array([1,3,4])\n",
    "np.sum(arr)"
   ]
  },
  {
   "cell_type": "code",
   "execution_count": 275,
   "id": "d66dd697-fb1d-4a9d-966d-85125a2391a1",
   "metadata": {},
   "outputs": [
    {
     "data": {
      "text/plain": [
       "4"
      ]
     },
     "execution_count": 275,
     "metadata": {},
     "output_type": "execute_result"
    }
   ],
   "source": [
    "arr=np.array([1,3,4])\n",
    "np.max(arr)"
   ]
  },
  {
   "cell_type": "code",
   "execution_count": 276,
   "id": "876ee38b-a28e-4e43-a079-603d7e6272d4",
   "metadata": {},
   "outputs": [
    {
     "data": {
      "text/plain": [
       "1"
      ]
     },
     "execution_count": 276,
     "metadata": {},
     "output_type": "execute_result"
    }
   ],
   "source": [
    "arr=np.array([1,3,4])\n",
    "np.min(arr)"
   ]
  },
  {
   "cell_type": "code",
   "execution_count": null,
   "id": "830e6138-3138-4410-88b2-ceecfe0bfaad",
   "metadata": {},
   "outputs": [],
   "source": [
    "arr=np.array([1,3,4])\n",
    "np.mean(arr)"
   ]
  },
  {
   "cell_type": "code",
   "execution_count": null,
   "id": "46b93f18-7e38-405d-ab98-e2811797c124",
   "metadata": {},
   "outputs": [],
   "source": [
    "arr=np.array([1,3,4])\n",
    "np.median(arr)"
   ]
  },
  {
   "cell_type": "code",
   "execution_count": null,
   "id": "95885b2a-fbc5-4a78-b48f-82ee9e13727e",
   "metadata": {},
   "outputs": [],
   "source": [
    "import statistics as stats\n",
    "arr=np.array([1,3,4])\n",
    "stats.mode(arr)"
   ]
  },
  {
   "cell_type": "code",
   "execution_count": null,
   "id": "d35bcbf6-ebc5-4d2f-b1ec-353073862ba8",
   "metadata": {},
   "outputs": [],
   "source": [
    "arr_1d=np.array([1,6,8,9,0])\n",
    "normalized_array = (arr_1d - np.min(arr_1d)) / (np.max(arr_1d) - np.min(arr_1d))\n",
    "normalized_array"
   ]
  },
  {
   "cell_type": "markdown",
   "id": "1fc2ad1f-9917-4fda-94f9-017002d5c6c0",
   "metadata": {},
   "source": [
    "Indexing and Slicing:\n",
    "1.\tExtract the second and third elements from a 1D array.\n",
    "3.\tSelect all even-indexed elements from a 1D array.\n",
    "4.\tReplace values greater than 5 in a 1D array with 0.\n",
    "5.\tSort the elements in a 1D array."
   ]
  },
  {
   "cell_type": "code",
   "execution_count": null,
   "id": "85cefded-39b3-4c23-a85e-8a50b4e1de50",
   "metadata": {},
   "outputs": [],
   "source": [
    "arr_1d=np.array([1,6,8,9,0])\n",
    "arr_1d[1:3]"
   ]
  },
  {
   "cell_type": "code",
   "execution_count": null,
   "id": "d2a3e2b2-10cf-4e41-961c-5cd67c276c66",
   "metadata": {},
   "outputs": [],
   "source": [
    "arr_1d=np.array([1,6,8,9,0])\n",
    "fd=arr_1d % 2 == 0\n",
    "fd"
   ]
  },
  {
   "cell_type": "code",
   "execution_count": null,
   "id": "49a1b5c5-2665-451f-8c13-e54f415903df",
   "metadata": {},
   "outputs": [],
   "source": [
    "arr_1d=np.array([1,6,8,9,10,15,2,1,4])\n",
    "arr_1d[arr_1d>5]=0\n",
    "print(arr_1d)"
   ]
  },
  {
   "cell_type": "code",
   "execution_count": null,
   "id": "bf44506e-08f2-4c6a-bfaf-72774ed7cf0c",
   "metadata": {},
   "outputs": [],
   "source": [
    "arr_1d=np.array([1,6,8,9,10,15,2,19,4])\n",
    "np.sort(arr_1d)"
   ]
  },
  {
   "cell_type": "markdown",
   "id": "1a9fb069-81fb-4be5-b881-f09088aeaf9b",
   "metadata": {},
   "source": [
    "Mathematical Functions\n",
    "1.\tCalculate the square root of each element in a 1D array.\n",
    "2.\tCompute the exponential of each element in a 1D array.\n",
    "3.\tCompute the power of each element in a 1D array.\n",
    "4.\tRound the values in a 1D array to the nearest integer.\n",
    "5.\tCalculate the mean of a 2D array.\n",
    "6.\tCalculate the standard deviation of a 2D array and then calculate the variance from the standard deviation.\n",
    "7.\tCalculate the variance of a 2D array.\n",
    "8.\tPerform element-wise multiplication of two 2D arrays.\n"
   ]
  },
  {
   "cell_type": "code",
   "execution_count": null,
   "id": "469f85a9-ce04-419d-b97a-267ec29fe392",
   "metadata": {},
   "outputs": [],
   "source": [
    "arr_1=np.array([ 1,  2,  4,  6,  8,  9])\n",
    "np.sqrt(arr_1)\n"
   ]
  },
  {
   "cell_type": "code",
   "execution_count": null,
   "id": "885147c2-6309-4601-857a-2a72d22549f9",
   "metadata": {},
   "outputs": [],
   "source": [
    "arr_1=np.array([ 1,  2,  4,  6,  8,  9])\n",
    "np.exp(arr_1)\n"
   ]
  },
  {
   "cell_type": "code",
   "execution_count": null,
   "id": "a0b50b1c-be20-4e3d-9482-1c37cc1876c4",
   "metadata": {},
   "outputs": [],
   "source": [
    "arr_1=np.array([ 1,  2,  4,  6,  8,  9])\n",
    "np.power(arr_1, 2)\n"
   ]
  },
  {
   "cell_type": "code",
   "execution_count": null,
   "id": "968f5818-c924-4a5d-a061-6c307deb7473",
   "metadata": {},
   "outputs": [],
   "source": [
    "arr_1d=np.array([ 1.76868,  2.43345,  4.35436,  6.657658,  8.345,  9.09])\n",
    "np.round(arr_1d)"
   ]
  },
  {
   "cell_type": "code",
   "execution_count": null,
   "id": "ba65fcae-3c9d-4f16-99bf-beaedfd56b5c",
   "metadata": {},
   "outputs": [],
   "source": [
    "array_2d=np.array([[ 1,  6,  8,  9, 10],[11, 15,  2, 19,  4]])\n",
    "np.mean(array_2d) "
   ]
  },
  {
   "cell_type": "code",
   "execution_count": null,
   "id": "72027e62-9957-4ab8-a7f1-7a18afefd9f2",
   "metadata": {},
   "outputs": [],
   "source": [
    "array_2d=np.array([[ 1,  6,  8,  9, 10],[11, 15,  2, 19,  4]])\n",
    "std=np.std(array_2d) \n",
    "std"
   ]
  },
  {
   "cell_type": "code",
   "execution_count": null,
   "id": "a4784489-44c7-4b36-812c-a5f02b5b31ae",
   "metadata": {},
   "outputs": [],
   "source": [
    "std**2"
   ]
  },
  {
   "cell_type": "code",
   "execution_count": null,
   "id": "f837d761-cc13-4d4e-a628-fdfd5800bd8c",
   "metadata": {},
   "outputs": [],
   "source": [
    "array_2d=np.array([[ 1,  6,  8,  9, 10],[11, 15,  2, 19,  4]])\n",
    "var=np.var(array_2d) \n",
    "var\n"
   ]
  },
  {
   "cell_type": "code",
   "execution_count": null,
   "id": "b1960472-099c-462d-965d-f454c32551c9",
   "metadata": {},
   "outputs": [],
   "source": [
    " _2d_arr=np.array([[ 1,  6,  1,  9, 1],[1, 1,  2, 1,  4]])\n",
    "array_2d=np.array([[ 1,  6,  8,  9, 10],[11, 15,  2, 19,  4]])\n",
    "np.multiply(array_2d, _2d_arr)"
   ]
  },
  {
   "cell_type": "markdown",
   "id": "94a26836-e025-4fa0-b63d-b1a8436ea5c1",
   "metadata": {},
   "source": [
    "Universal Functions (ufuncs)\n",
    "1.\tCalculate the sine of each element in a 1D array.\n",
    "2.\tCompute the element-wise absolute values of a 1D array.\n",
    "3.\tFind the element-wise logarithm (base 10) of a 1D array.\n",
    "4.\tRound down the values in a 1D array to the nearest integer.\n",
    "5.\tCalculate the cumulative sum of elements in a 1D array.\n"
   ]
  },
  {
   "cell_type": "code",
   "execution_count": null,
   "id": "7f45b427-79e4-457d-918a-917bc7337524",
   "metadata": {},
   "outputs": [],
   "source": [
    "arr_1d=np.array([1,6,8,9,0])\n",
    "np.sin(arr_1d)"
   ]
  },
  {
   "cell_type": "code",
   "execution_count": null,
   "id": "b167a097-a7dc-41fd-b9e0-4e2ac7a82099",
   "metadata": {},
   "outputs": [],
   "source": [
    "arr_1d=np.array([1,6,8,9,0])\n",
    "np.abs(arr_1d)"
   ]
  },
  {
   "cell_type": "code",
   "execution_count": null,
   "id": "cacb2b4b-ed1e-48b5-8f27-307263528630",
   "metadata": {},
   "outputs": [],
   "source": [
    "arr_1d=np.array([1,6,8,9,19])\n",
    "np.log10(arr_1d)"
   ]
  },
  {
   "cell_type": "code",
   "execution_count": null,
   "id": "db2397a1-7e89-4e29-8a0e-ddc63207a3d3",
   "metadata": {},
   "outputs": [],
   "source": [
    "arr_1d=np.array([ 1.68,  2.45,  3.36,  6.8,  8.5,  9.0])\n",
    "np.round(arr_1d)"
   ]
  },
  {
   "cell_type": "code",
   "execution_count": null,
   "id": "d45e3b81-bfe6-487e-bffc-898e4ea02e85",
   "metadata": {},
   "outputs": [],
   "source": [
    "arr_1d=np.array([1,6,8,9,19])\n",
    "np.cumsum(arr_1d)"
   ]
  },
  {
   "cell_type": "markdown",
   "id": "70796722-dbae-43bb-a25f-1b9a22fbf4ee",
   "metadata": {},
   "source": [
    "Array Manipulation\n",
    "1.\tStack two 1D arrays vertically.\n",
    "2.\tStack two 1D arrays horizontically.\n",
    "3.\tConcatenate two 2D arrays along the rows (axis=0).\n",
    "4.\tConcatenate two 2D arrays along the columns (axis=1).\n",
    "5.\tSplit a 1D array into three equal-sized parts.\n",
    "6.\tInsert a new row of zeros at the bottom of a 2D array.\n",
    "7.\tDelete the second column from a 2D array.\n"
   ]
  },
  {
   "cell_type": "code",
   "execution_count": null,
   "id": "802f53fc-785b-48a2-9d2b-95f494e37d45",
   "metadata": {},
   "outputs": [],
   "source": [
    "arr_d1=np.array([3,6,8,9,4])\n",
    "arr_1d=np.array([6,5,6,3,1])\n",
    "vstack = np.vstack((arr_d1, arr_1d))\n",
    "vstack"
   ]
  },
  {
   "cell_type": "code",
   "execution_count": null,
   "id": "dc07e341-2350-426b-a490-34a83119d261",
   "metadata": {},
   "outputs": [],
   "source": [
    "arr_1d=np.array([3,6,8,9,4])\n",
    "arr_d1=np.array([6,5,6,3,1])\n",
    "np.hstack((arr_1d,arr_d1))"
   ]
  },
  {
   "cell_type": "code",
   "execution_count": null,
   "id": "3260df8c-0641-495c-ad70-9afcab6ee6d6",
   "metadata": {},
   "outputs": [],
   "source": [
    "arr_2d=np.array([[3,6,8,9,4],[6,5,6,3,1]])\n",
    "arr_d2=np.array([[6,5,6,3,1],[3,6,8,9,4]])\n",
    "np.concatenate((arr_2d,arr_d2), axis=0)"
   ]
  },
  {
   "cell_type": "code",
   "execution_count": null,
   "id": "f498120e-de58-4071-a92b-5b4a6096625c",
   "metadata": {},
   "outputs": [],
   "source": [
    "arr_2d=np.array([[3,6,8,9,4],[6,5,6,3,1]])\n",
    "arr_d2=np.array([[6,5,6,3,1],[3,6,8,9,4]])\n",
    "np.concatenate((arr_2d,arr_d2), axis=1)"
   ]
  },
  {
   "cell_type": "code",
   "execution_count": null,
   "id": "0eca0594-c6d3-4fad-832d-6c0c0d49a8a5",
   "metadata": {},
   "outputs": [],
   "source": [
    "arr_d1=np.array([3,6,8,9,4,7])\n",
    "np.split(arr_d1,3)"
   ]
  },
  {
   "cell_type": "code",
   "execution_count": null,
   "id": "7b7d1e1e-0f7b-46ce-b5da-ecd4e5f704d7",
   "metadata": {},
   "outputs": [],
   "source": [
    "arr_2d=np.array([[3,6,8,9,4],[6,5,6,3,1]])\n",
    "arr_zero=np.zeros(5)\n",
    "np.append(arr_zero,arr_2d)"
   ]
  },
  {
   "cell_type": "code",
   "execution_count": null,
   "id": "6d6942bf-e920-4a55-831a-622c48281558",
   "metadata": {},
   "outputs": [],
   "source": [
    "arr_2d=np.array([[3,6,8,9,4],[6,5,6,3,1]])\n",
    "np.delete(arr_2d,1,axis=0)"
   ]
  },
  {
   "cell_type": "code",
   "execution_count": null,
   "id": "c9ae0b17-53f8-4757-97ac-3d16167c435a",
   "metadata": {},
   "outputs": [],
   "source": [
    "# np.delete: This function is used to remove specified elements along a given axis from an     array.\n",
    "# arr_2d: The original 2D array from which you want to remove elements.\n",
    "# (1) is the index (or indices) of the element(s) you want to remove. In this case, it's       the second column, so the index is 1.\n",
    "# axis=1: Specifies that the deletion should occur along axis 1 (columns). If axis is not      specified, it is assumed to be a flattened array."
   ]
  },
  {
   "cell_type": "markdown",
   "id": "36479142-c900-4935-8bd1-6324e44815ca",
   "metadata": {},
   "source": [
    "Statistical Operations\n",
    "1.\tCalculate the correlation coefficient between two 1D arrays.\n",
    "2.\tFind the percentile (e.g., 25th and 75th) values of a 1D array.\t\n",
    "3.\tCount the number of occurrences of a specific value in a 1D array.\n",
    "4.\tIdentify the indices of the minimum and maximum values in a 1D array."
   ]
  },
  {
   "cell_type": "code",
   "execution_count": null,
   "id": "556d2a17-ac83-45a8-9f34-cc8aa37fd436",
   "metadata": {},
   "outputs": [],
   "source": [
    "profit=np.array([2000,3000,4000,100])\n",
    "sale=np.array([1000,500,1500,300])\n",
    "np.corrcoef(profit,sale)"
   ]
  },
  {
   "cell_type": "code",
   "execution_count": null,
   "id": "651a68a6-3d91-4f72-ac81-ee204ba74dee",
   "metadata": {},
   "outputs": [],
   "source": [
    "arr_d1=np.array([3,6,8,9,4,7])\n",
    "np.percentile(arr_d1,[25,75])"
   ]
  },
  {
   "cell_type": "code",
   "execution_count": null,
   "id": "a64dc27c-1cee-42a5-a201-3e5cd18788ad",
   "metadata": {},
   "outputs": [],
   "source": [
    "array=np.array([3,7,6,5,4,6,8,9,4,7])\n",
    "np.count_nonzero(array == 4)\n"
   ]
  },
  {
   "cell_type": "code",
   "execution_count": 278,
   "id": "65d6eded-4fd0-492d-8d4c-2861d5512f80",
   "metadata": {},
   "outputs": [
    {
     "name": "stdout",
     "output_type": "stream",
     "text": [
      "min_index = 0\n",
      "max_index = 7\n"
     ]
    }
   ],
   "source": [
    "min_index = np.argmin(array)\n",
    "max_index = np.argmax(array)\n",
    "print(f\"min_index = {min_index}\")\n",
    "print(f\"max_index = {max_index}\")\n"
   ]
  },
  {
   "cell_type": "markdown",
   "id": "92573c49-f2ca-4882-86c6-27aedbe69bf3",
   "metadata": {},
   "source": [
    "Linear Algebra\n",
    "1.\tCompute the dot product of two 1D arrays.\n",
    "2.\tSolve a system of linear equations represented by matrices.\n",
    "3.\tCalculate the determinant of a square matrix.\n",
    "5.\tPerform a matrix inversion on a 3x3 matrix.\n"
   ]
  },
  {
   "cell_type": "code",
   "execution_count": 279,
   "id": "38d72bb7-01af-4e3b-97e7-9c838a5fe03a",
   "metadata": {},
   "outputs": [
    {
     "data": {
      "text/plain": [
       "176"
      ]
     },
     "execution_count": 279,
     "metadata": {},
     "output_type": "execute_result"
    }
   ],
   "source": [
    "ar1=np.array([3,7,6,5,4])\n",
    "ar2=np.array([6,8,9,4,7])\n",
    "np.dot(ar1,ar2)"
   ]
  },
  {
   "cell_type": "code",
   "execution_count": 280,
   "id": "07bbafcd-2756-4fcc-bd6b-c5ee89b60f3d",
   "metadata": {},
   "outputs": [
    {
     "data": {
      "text/plain": [
       "array([ 7., -2.])"
      ]
     },
     "execution_count": 280,
     "metadata": {},
     "output_type": "execute_result"
    }
   ],
   "source": [
    "A = np.array([[2, 3], [4, 5]])\n",
    "b = np.array([8, 18])\n",
    "solution = np.linalg.solve(A, b)\n",
    "solution "
   ]
  },
  {
   "cell_type": "code",
   "execution_count": 281,
   "id": "c50e57b5-a45b-4c73-841d-daed008706d8",
   "metadata": {},
   "outputs": [
    {
     "data": {
      "text/plain": [
       "-21.0"
      ]
     },
     "execution_count": 281,
     "metadata": {},
     "output_type": "execute_result"
    }
   ],
   "source": [
    "arr_2d=np.array([[3,6],[6,5]])\n",
    "matrix_det = np.linalg.det(arr_2d)\n",
    "matrix_det"
   ]
  },
  {
   "cell_type": "code",
   "execution_count": 282,
   "id": "0b38ead2-0853-4196-b81f-a3b96e38124f",
   "metadata": {},
   "outputs": [
    {
     "data": {
      "text/plain": [
       "array([[ 1.62757503,  0.05166197, -0.39824192],\n",
       "       [ 0.11913499, -3.2459474 ,  2.32849268],\n",
       "       [-1.73953209,  1.68660535,  0.25290426]])"
      ]
     },
     "execution_count": 282,
     "metadata": {},
     "output_type": "execute_result"
    }
   ],
   "source": [
    "matrix_inverse = np.linalg.inv(np.random.rand(3, 3))\n",
    "matrix_inverse"
   ]
  },
  {
   "cell_type": "code",
   "execution_count": 284,
   "id": "6eeaa936-dff5-43ce-9fa5-2215efb5ea66",
   "metadata": {},
   "outputs": [
    {
     "name": "stdout",
     "output_type": "stream",
     "text": [
      "[[1 7]\n",
      " [6 5]]\n",
      "Transpose:\n",
      "[[1 6]\n",
      " [7 5]]\n"
     ]
    }
   ],
   "source": [
    "arr_2d=np.array([[1,7],[6,5]])\n",
    "print(arr_2d)\n",
    "print(\"Transpose:\")\n",
    "print(arr_2d.T)"
   ]
  },
  {
   "cell_type": "code",
   "execution_count": null,
   "id": "1fa64637-9331-4e2e-aca4-ef6571f33868",
   "metadata": {},
   "outputs": [],
   "source": [
    "ran_arr=np.random.rand(3,3).T\n",
    "ran_arr"
   ]
  }
 ],
 "metadata": {
  "kernelspec": {
   "display_name": "Python 3 (ipykernel)",
   "language": "python",
   "name": "python3"
  },
  "language_info": {
   "codemirror_mode": {
    "name": "ipython",
    "version": 3
   },
   "file_extension": ".py",
   "mimetype": "text/x-python",
   "name": "python",
   "nbconvert_exporter": "python",
   "pygments_lexer": "ipython3",
   "version": "3.11.7"
  }
 },
 "nbformat": 4,
 "nbformat_minor": 5
}
